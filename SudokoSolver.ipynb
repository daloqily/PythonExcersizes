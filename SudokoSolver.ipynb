{
  "cells": [
    {
      "cell_type": "markdown",
      "metadata": {
        "colab_type": "text",
        "id": "view-in-github"
      },
      "source": [
        "<a href=\"https://colab.research.google.com/github/daloqily/PythonExcersizes/blob/main/SudokoSolver.ipynb\" target=\"_parent\"><img src=\"https://colab.research.google.com/assets/colab-badge.svg\" alt=\"Open In Colab\"/></a>"
      ]
    },
    {
      "cell_type": "markdown",
      "metadata": {
        "id": "YNLcknNrOHXk"
      },
      "source": [
        "Solution Algorithm is still under development\n",
        "\n",
        "\n",
        "\n",
        "\n"
      ]
    },
    {
      "cell_type": "code",
      "execution_count": null,
      "metadata": {
        "id": "H_ezEs52Nl3P"
      },
      "outputs": [],
      "source": [
        "## Approach is to check the digit's row, column & grid (3x3 block) every move\n",
        "\n",
        "##Developer Comments##  \n",
        "  \n",
        "  # i = row\n",
        "     #1st iter: [i] const. [j] increments. #---depends on the digits row & col\n",
        "     #iter 1:  #check [0][0] , [0][1] , [0][2] hold the row (i) until col (j)  are done\n",
        "     #iter 2:  #check [1][0] , [1][1] , [1][2]\n",
        "    #for i in range(0 ,9):\n",
        "  # j = column\n",
        "   #1st iter: [i] increments. [j] const.\n",
        "    #iter 1:  #check [0][0] , [1][0] , [2][0] hold the col (j) untill rows (i) are done\n",
        "    #iter 2:  #check [0][1] , [1][1] , [2][1]\n",
        "    #iter 3:  #check [0][2] , [1][2] , [2][2]\n",
        "      #for i in range(0 ,9):"
      ]
    },
    {
      "cell_type": "code",
      "execution_count": 2,
      "metadata": {
        "colab": {
          "base_uri": "https://localhost:8080/"
        },
        "id": "0-fPCDlJfKOp",
        "outputId": "c65fc040-a925-4283-b86e-de0f6a0f6c23"
      },
      "outputs": [
        {
          "name": "stdout",
          "output_type": "stream",
          "text": [
            "[['5', '3', '.', '.', '7', '.', '.', '.', '.'], ['6', '.', '.', '1', '9', '5', '.', '.', '.'], ['.', '9', '8', '.', '.', '.', '.', '6', '.'], ['8', '.', '.', '.', '6', '.', '.', '.', '3'], ['4', '.', '.', '8', '.', '3', '.', '.', '1'], ['7', '.', '.', '.', '2', '.', '.', '.', '6'], ['.', '6', '.', '.', '.', '.', '2', '8', '.'], ['.', '.', '.', '4', '1', '9', '.', '.', '5'], ['.', '.', '.', '.', '8', '.', '.', '7', '9']]\n",
            "[['5', '3', 1, '.', '7', '.', 1, 1, '.'], ['6', 2, 2, '1', '9', '5', '.', 2, 2], ['.', '9', '8', 3, 3, '.', 3, '6', '.'], ['8', '.', '.', '.', '6', 4, 4, 4, '3'], ['4', 5, 5, '8', 5, '3', 5, 5, '1'], ['7', '.', '.', '.', '2', '.', '.', '.', '6'], ['.', '6', 7, 7, '.', 7, '2', '8', '.'], ['.', 8, '.', '4', '1', '9', '.', '.', '5'], ['.', '.', '.', '.', '8', '.', '.', '7', '9']]\n"
          ]
        }
      ],
      "source": [
        "from IPython.core.shellapp import Bool\n",
        "\n",
        "\n",
        "\n",
        "def print_board(board):\n",
        "  b= board\n",
        "\n",
        "\n",
        "#return False if digit exist in the row\n",
        "def check_row(board, row, digit:int):\n",
        "  for j in range(0,9):\n",
        "    if board[row][j] == str(digit):\n",
        "          return False\n",
        "    else:\n",
        "      continue\n",
        "  return True\n",
        "\n",
        "#return False if digit exist in the column\n",
        "def check_col(board,col , digit:int): \n",
        "   for j in range(0,9):\n",
        "     if board[j][col] == str(digit):\n",
        "       return False\n",
        "     else:\n",
        "      continue\n",
        "   return True\n",
        "\n",
        "  \n",
        "#return False if digit exist in the block\n",
        "def check_grid(board, row , col, digit: int):\n",
        "  grid_row, grid_col = 3*(row//3), 3*(col//3)\n",
        "  if any(board[i][j] == str(digit) \n",
        "      for i in range(grid_row, grid_row+3) \n",
        "      for j in range(grid_col, grid_col+3)):\n",
        "    return False\n",
        "  else:\n",
        "   return True\n",
        "\n",
        "# function that checks if the move of a digit in a certian cell is valid or not\n",
        "def valid_move(board):\n",
        "    for i in range (0,9):\n",
        "      digit = (i+1)\n",
        "      for j in range (0,9):\n",
        "        \n",
        "        if(board[i][j] == \".\"):\n",
        "          if(check_row(board, i , digit ) & check_col(board , j, digit ) & check_grid(board , i , j , digit)):\n",
        "            board[i][j] = digit\n",
        "       \n",
        "  \n",
        "    \n",
        "\n",
        "\n",
        "  \n",
        "board = [[\"5\",\"3\",\".\",\".\",\"7\",\".\",\".\",\".\",\".\"],\n",
        "         [\"6\",\".\",\".\",\"1\",\"9\",\"5\",\".\",\".\",\".\"],\n",
        "         [\".\",\"9\",\"8\",\".\",\".\",\".\",\".\",\"6\",\".\"],\n",
        "         [\"8\",\".\",\".\",\".\",\"6\",\".\",\".\",\".\",\"3\"],\n",
        "         [\"4\",\".\",\".\",\"8\",\".\",\"3\",\".\",\".\",\"1\"],\n",
        "         [\"7\",\".\",\".\",\".\",\"2\",\".\",\".\",\".\",\"6\"],\n",
        "         [\".\",\"6\",\".\",\".\",\".\",\".\",\"2\",\"8\",\".\"],\n",
        "         [\".\",\".\",\".\",\"4\",\"1\",\"9\",\".\",\".\",\"5\"],\n",
        "         [\".\",\".\",\".\",\".\",\"8\",\".\",\".\",\"7\",\"9\"]]\n",
        "print(board)\n",
        "valid_move(board)\n",
        "print(board)\n",
        "      \n",
        "\n"
      ]
    },
    {
      "cell_type": "code",
      "execution_count": null,
      "metadata": {
        "id": "MBZ5LPzBylHV"
      },
      "outputs": [],
      "source": [
        "## calling each column for debugging purposes"
      ]
    },
    {
      "cell_type": "code",
      "execution_count": null,
      "metadata": {
        "colab": {
          "base_uri": "https://localhost:8080/"
        },
        "id": "99XjulNoppX8",
        "outputId": "467010ab-19d6-40c8-a9a6-be1786a17aa6"
      },
      "outputs": [
        {
          "name": "stdout",
          "output_type": "stream",
          "text": [
            "5\n",
            "3\n",
            "3\n",
            "3\n",
            "7\n",
            "3\n",
            "3\n",
            "3\n",
            "6\n",
            "3\n",
            "3\n",
            "1\n",
            "9\n",
            "5\n",
            "3\n",
            "3\n"
          ]
        }
      ],
      "source": [
        "check_row(board , 3)\n"
      ]
    },
    {
      "cell_type": "code",
      "execution_count": null,
      "metadata": {
        "id": "dUw3jezBfXUZ"
      },
      "outputs": [],
      "source": []
    }
  ],
  "metadata": {
    "colab": {
      "authorship_tag": "ABX9TyNkpphjnbbLgPbN0OU8x4/4",
      "include_colab_link": true,
      "provenance": []
    },
    "kernelspec": {
      "display_name": "Python 3",
      "language": "python",
      "name": "python3"
    },
    "language_info": {
      "codemirror_mode": {
        "name": "ipython",
        "version": 3
      },
      "file_extension": ".py",
      "mimetype": "text/x-python",
      "name": "python",
      "nbconvert_exporter": "python",
      "pygments_lexer": "ipython3",
      "version": "3.11.0 (main, Oct 24 2022, 18:26:48) [MSC v.1933 64 bit (AMD64)]"
    },
    "vscode": {
      "interpreter": {
        "hash": "f3cb1b36911b8b817348a92b8ab2bcaff1c1896763050e785132577c5e6e4cd8"
      }
    }
  },
  "nbformat": 4,
  "nbformat_minor": 0
}
