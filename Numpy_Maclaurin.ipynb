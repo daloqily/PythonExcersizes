{
  "nbformat": 4,
  "nbformat_minor": 0,
  "metadata": {
    "colab": {
      "provenance": [],
      "authorship_tag": "ABX9TyPu1Jua2cS01nT8dCgQ4LYd",
      "include_colab_link": true
    },
    "kernelspec": {
      "name": "python3",
      "display_name": "Python 3"
    },
    "language_info": {
      "name": "python"
    }
  },
  "cells": [
    {
      "cell_type": "markdown",
      "metadata": {
        "id": "view-in-github",
        "colab_type": "text"
      },
      "source": [
        "<a href=\"https://colab.research.google.com/github/daloqily/PythonExcersizes/blob/main/Numpy_Maclaurin.ipynb\" target=\"_parent\"><img src=\"https://colab.research.google.com/assets/colab-badge.svg\" alt=\"Open In Colab\"/></a>"
      ]
    },
    {
      "cell_type": "code",
      "execution_count": 3,
      "metadata": {
        "colab": {
          "base_uri": "https://localhost:8080/"
        },
        "id": "JOlerptIG7Hm",
        "outputId": "5e82e7bf-c27b-4b87-cdb4-5955f985f1a6"
      },
      "outputs": [
        {
          "output_type": "execute_result",
          "data": {
            "text/plain": [
              "array([ 88.5,  71.5,  93.5, 100. ,  27.5,  60.5, 100. ,  93.5])"
            ]
          },
          "metadata": {},
          "execution_count": 3
        }
      ],
      "source": [
        "import numpy as np\n",
        "\n",
        "curve_centre = 80\n",
        "\n",
        "## using numpy to create the array\n",
        "grades = np.array([73,56,78,86,12,45,88,78])\n",
        "\n",
        "def curve(grades):\n",
        "  average = grades.mean()\n",
        "  change = curve_centre - average\n",
        "  new_grades = grades + change\n",
        "\n",
        "## a function that takes an array and makes sure the values \n",
        "##don’t exceed a given minimum or maximum\n",
        "  return np.clip(new_grades, grades,100)\n",
        "\n",
        "curve(grades)\n"
      ]
    },
    {
      "cell_type": "code",
      "source": [
        "import numpy as np\n",
        "temperatures = np.array([\n",
        "      29.3, 42.1, 18.8, 16.1, 38.0, 12.5,\n",
        "   12.6, 49.9, 38.6, 31.3, 9.2, 22.2\n",
        "   ]).reshape(2,2,3)\n",
        "\n",
        "temperatures.shape\n",
        "\n",
        "temperatures\n",
        "\n",
        "##Interchange two axes of an array.\n",
        "np.swapaxes(temperatures,1,2)\n",
        "\n"
      ],
      "metadata": {
        "colab": {
          "base_uri": "https://localhost:8080/"
        },
        "id": "yUe_scAwKqNi",
        "outputId": "b5999142-3da9-45f3-b062-1f9a814f0d68"
      },
      "execution_count": 17,
      "outputs": [
        {
          "output_type": "execute_result",
          "data": {
            "text/plain": [
              "array([[[29.3, 16.1],\n",
              "        [42.1, 38. ],\n",
              "        [18.8, 12.5]],\n",
              "\n",
              "       [[12.6, 31.3],\n",
              "        [49.9,  9.2],\n",
              "        [38.6, 22.2]]])"
            ]
          },
          "metadata": {},
          "execution_count": 17
        }
      ]
    },
    {
      "cell_type": "code",
      "source": [
        "import numpy as np\n",
        "\n",
        "#arange() Return evenly spaced values within a given interval\n",
        "#reshape(\"horizontal\" , \"vertical\" ,\"elements within\")\n",
        "A=np.arange(32).reshape(4,1,8)\n",
        "\n",
        "B=np.arange(48).reshape(1,6,8)\n",
        "\n",
        "A"
      ],
      "metadata": {
        "colab": {
          "base_uri": "https://localhost:8080/"
        },
        "id": "wO9glxSSMS1b",
        "outputId": "6b6627f6-10e5-4de4-9169-b26c348c3ff5"
      },
      "execution_count": 21,
      "outputs": [
        {
          "output_type": "execute_result",
          "data": {
            "text/plain": [
              "array([[[ 0,  1,  2,  3,  4,  5,  6,  7]],\n",
              "\n",
              "       [[ 8,  9, 10, 11, 12, 13, 14, 15]],\n",
              "\n",
              "       [[16, 17, 18, 19, 20, 21, 22, 23]],\n",
              "\n",
              "       [[24, 25, 26, 27, 28, 29, 30, 31]]])"
            ]
          },
          "metadata": {},
          "execution_count": 21
        }
      ]
    },
    {
      "cell_type": "code",
      "source": [
        "B"
      ],
      "metadata": {
        "colab": {
          "base_uri": "https://localhost:8080/"
        },
        "id": "4y0hyLe5M-yW",
        "outputId": "4e25e3c2-f4c0-431c-cfea-162396ed3dcb"
      },
      "execution_count": 20,
      "outputs": [
        {
          "output_type": "execute_result",
          "data": {
            "text/plain": [
              "array([[[ 0,  1,  2,  3,  4,  5,  6,  7],\n",
              "        [ 8,  9, 10, 11, 12, 13, 14, 15],\n",
              "        [16, 17, 18, 19, 20, 21, 22, 23],\n",
              "        [24, 25, 26, 27, 28, 29, 30, 31],\n",
              "        [32, 33, 34, 35, 36, 37, 38, 39],\n",
              "        [40, 41, 42, 43, 44, 45, 46, 47]]])"
            ]
          },
          "metadata": {},
          "execution_count": 20
        }
      ]
    },
    {
      "cell_type": "code",
      "source": [
        "A+B"
      ],
      "metadata": {
        "colab": {
          "base_uri": "https://localhost:8080/"
        },
        "id": "wFRhYc5GNN4J",
        "outputId": "42aeff3c-4e12-4d1c-b42d-98793a42ad8c"
      },
      "execution_count": 22,
      "outputs": [
        {
          "output_type": "execute_result",
          "data": {
            "text/plain": [
              "array([[[ 0,  2,  4,  6,  8, 10, 12, 14],\n",
              "        [ 8, 10, 12, 14, 16, 18, 20, 22],\n",
              "        [16, 18, 20, 22, 24, 26, 28, 30],\n",
              "        [24, 26, 28, 30, 32, 34, 36, 38],\n",
              "        [32, 34, 36, 38, 40, 42, 44, 46],\n",
              "        [40, 42, 44, 46, 48, 50, 52, 54]],\n",
              "\n",
              "       [[ 8, 10, 12, 14, 16, 18, 20, 22],\n",
              "        [16, 18, 20, 22, 24, 26, 28, 30],\n",
              "        [24, 26, 28, 30, 32, 34, 36, 38],\n",
              "        [32, 34, 36, 38, 40, 42, 44, 46],\n",
              "        [40, 42, 44, 46, 48, 50, 52, 54],\n",
              "        [48, 50, 52, 54, 56, 58, 60, 62]],\n",
              "\n",
              "       [[16, 18, 20, 22, 24, 26, 28, 30],\n",
              "        [24, 26, 28, 30, 32, 34, 36, 38],\n",
              "        [32, 34, 36, 38, 40, 42, 44, 46],\n",
              "        [40, 42, 44, 46, 48, 50, 52, 54],\n",
              "        [48, 50, 52, 54, 56, 58, 60, 62],\n",
              "        [56, 58, 60, 62, 64, 66, 68, 70]],\n",
              "\n",
              "       [[24, 26, 28, 30, 32, 34, 36, 38],\n",
              "        [32, 34, 36, 38, 40, 42, 44, 46],\n",
              "        [40, 42, 44, 46, 48, 50, 52, 54],\n",
              "        [48, 50, 52, 54, 56, 58, 60, 62],\n",
              "        [56, 58, 60, 62, 64, 66, 68, 70],\n",
              "        [64, 66, 68, 70, 72, 74, 76, 78]]])"
            ]
          },
          "metadata": {},
          "execution_count": 22
        }
      ]
    },
    {
      "cell_type": "code",
      "source": [
        "#Durer Magic Square\n",
        "import numpy as np\n",
        "\n",
        "square = np.array([\n",
        "    [16, 3, 2, 13],\n",
        "     [5, 10, 11, 8],\n",
        "    [9, 6, 7, 12],\n",
        "       [4, 15, 14, 1]\n",
        " ])\n",
        "\n",
        "\n",
        "for i in range(4):\n",
        "    assert square[:, i].sum() == 34\n",
        "    assert square[i, :].sum() == 34\n",
        "\n",
        "\n"
      ],
      "metadata": {
        "colab": {
          "base_uri": "https://localhost:8080/"
        },
        "id": "u0E26JrKNtTC",
        "outputId": "5ae41eae-2ddc-4213-bb59-f98e1acdb177"
      },
      "execution_count": 26,
      "outputs": [
        {
          "output_type": "execute_result",
          "data": {
            "text/plain": [
              "array([[16,  3,  2, 13],\n",
              "       [ 5, 10, 11,  8],\n",
              "       [ 9,  6,  7, 12],\n",
              "       [ 4, 15, 14,  1]])"
            ]
          },
          "metadata": {},
          "execution_count": 26
        }
      ]
    },
    {
      "cell_type": "code",
      "source": [
        "#A mask is an array that has the exact same shape as your data, but instead of your values,\n",
        "# it holds Boolean values: either True or False.\n",
        "\n",
        "import numpy as np\n",
        "numbers = np.linspace(5,50,24,dtype=int).reshape(4,-1)\n",
        "\n",
        "numbers\n",
        "\n"
      ],
      "metadata": {
        "colab": {
          "base_uri": "https://localhost:8080/"
        },
        "id": "v3sA743pPN0g",
        "outputId": "979a6d91-18d2-4ccc-b3e0-7a5e9ac39ddb"
      },
      "execution_count": 34,
      "outputs": [
        {
          "output_type": "execute_result",
          "data": {
            "text/plain": [
              "array([[ 5,  6,  8, 10, 12, 14],\n",
              "       [16, 18, 20, 22, 24, 26],\n",
              "       [28, 30, 32, 34, 36, 38],\n",
              "       [40, 42, 44, 46, 48, 50]])"
            ]
          },
          "metadata": {},
          "execution_count": 34
        }
      ]
    },
    {
      "cell_type": "code",
      "source": [
        "mask = numbers%4 ==0\n",
        "\n",
        "mask"
      ],
      "metadata": {
        "colab": {
          "base_uri": "https://localhost:8080/"
        },
        "id": "m_r8zz83P6i3",
        "outputId": "342fe7d5-d49e-473f-bdfb-cef3b0e1d10e"
      },
      "execution_count": 33,
      "outputs": [
        {
          "output_type": "execute_result",
          "data": {
            "text/plain": [
              "array([[False, False,  True, False,  True, False],\n",
              "       [ True, False,  True, False,  True, False],\n",
              "       [ True, False,  True, False,  True, False],\n",
              "       [ True, False,  True, False,  True, False]])"
            ]
          },
          "metadata": {},
          "execution_count": 33
        }
      ]
    },
    {
      "cell_type": "code",
      "source": [
        "#filtering results\n",
        "by_four = numbers[numbers%4 == 0]\n",
        "by_four"
      ],
      "metadata": {
        "colab": {
          "base_uri": "https://localhost:8080/"
        },
        "id": "nwweby_2P98N",
        "outputId": "251f6faf-1be0-4f07-c912-b5cb75827b44"
      },
      "execution_count": 36,
      "outputs": [
        {
          "output_type": "execute_result",
          "data": {
            "text/plain": [
              "array([ 8, 12, 16, 20, 24, 28, 32, 36, 40, 44, 48])"
            ]
          },
          "metadata": {},
          "execution_count": 36
        }
      ]
    },
    {
      "cell_type": "code",
      "source": [
        "## Implementing Maclauren Series\n",
        "\n",
        "##Using NumPy allows you to keep closer to a one-to-one representation from equation to code.##\n",
        "\n",
        "                              ##Maclaurens Series##\n",
        "##You add up terms starting at zero and going theoretically to infinity.\n",
        "## Each nth term will be x raised to n and divided by n!, which is the notation for the factorial operation."
      ],
      "metadata": {
        "id": "01dGm7lhQc5E"
      },
      "execution_count": null,
      "outputs": []
    },
    {
      "cell_type": "markdown",
      "source": [
        "![e-x-maclauren.webp](data:image/webp;base64,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)"
      ],
      "metadata": {
        "id": "xkpJznCxRppc"
      }
    },
    {
      "cell_type": "code",
      "source": [
        "from math import e, factorial\n",
        "import numpy as np\n",
        "##1.\tVectorization is the process of performing the same operation in the same way for each element in an array. \n",
        "fac = np.vectorize(factorial)\n",
        "\n",
        "\"\"\"Approximates e^x using a given number of terms of\n",
        "    the Maclaurin series\n",
        "    \"\"\"\n",
        "def e_x(x, terms=10):\n",
        "\n",
        "  n = np.arange(terms)\n",
        "  return np.sum((x**n) / fac(n))\n",
        "\n",
        "if __name__ == \"__main__\":\n",
        "  print(\"Actual:\" , e**4)\n",
        "\n",
        "  print(\"N(terms)\\tMaclaurin\\tError\")\n",
        "\n",
        "  for n in range(1,20):\n",
        "    maclaurin = e_x(4, terms=n)\n",
        "    print(f\"{n}\\t\\t{maclaurin:.03f}\\t\\t{e**3 - maclaurin:.03f}\")\n",
        "\n"
      ],
      "metadata": {
        "colab": {
          "base_uri": "https://localhost:8080/"
        },
        "id": "eWEZpgN4R4Q2",
        "outputId": "6d1a4771-411a-47e5-f014-c03d325857c1"
      },
      "execution_count": 39,
      "outputs": [
        {
          "output_type": "stream",
          "name": "stdout",
          "text": [
            "Actual: 54.59815003314423\n",
            "N(terms)\tMaclaurin\tError\n",
            "1\t\t1.000\t\t19.086\n",
            "2\t\t5.000\t\t15.086\n",
            "3\t\t13.000\t\t7.086\n",
            "4\t\t23.667\t\t-3.581\n",
            "5\t\t34.333\t\t-14.248\n",
            "6\t\t42.867\t\t-22.781\n",
            "7\t\t48.556\t\t-28.470\n",
            "8\t\t51.806\t\t-31.721\n",
            "9\t\t53.432\t\t-33.346\n",
            "10\t\t54.154\t\t-34.069\n",
            "11\t\t54.443\t\t-34.358\n",
            "12\t\t54.548\t\t-34.463\n",
            "13\t\t54.583\t\t-34.498\n",
            "14\t\t54.594\t\t-34.508\n",
            "15\t\t54.597\t\t-34.512\n",
            "16\t\t54.598\t\t-34.512\n",
            "17\t\t54.598\t\t-34.513\n",
            "18\t\t54.598\t\t-34.513\n",
            "19\t\t54.598\t\t-34.513\n"
          ]
        }
      ]
    },
    {
      "cell_type": "code",
      "source": [
        "                ## Structured Arrays##\n",
        "## NumPy has a special kind of array, \n",
        "## called a record array or structured array,\n",
        "## with which you can specify a type and, optionally,\n",
        "## a name on a per-column basis.\n",
        "\n"
      ],
      "metadata": {
        "colab": {
          "base_uri": "https://localhost:8080/",
          "height": 70
        },
        "id": "zsvH2P-bWSaH",
        "outputId": "8df751b3-a865-4727-dfbe-9891f805fdd7"
      },
      "execution_count": 40,
      "outputs": [
        {
          "output_type": "execute_result",
          "data": {
            "text/plain": [
              "' NumPy has a special kind of array, \\ncalled a record array or structured array,\\n with which you can specify a type and, optionally,\\n  a name on a per-column basis.'"
            ],
            "application/vnd.google.colaboratory.intrinsic+json": {
              "type": "string"
            }
          },
          "metadata": {},
          "execution_count": 40
        }
      ]
    },
    {
      "cell_type": "code",
      "source": [
        "import numpy as np\n",
        "\n",
        "data=np.array([\n",
        "    (\"joe\", 32, \"M\"),\n",
        "    (\"mary\", 29, \"F\"),\n",
        "    (\"philip\", 42,\"M\")\n",
        "], dtype=[(\"name\",str,10), (\"age\",int),(\"gender\", str, 5)])\n",
        "\n",
        "## access by index\n",
        "data[0]"
      ],
      "metadata": {
        "colab": {
          "base_uri": "https://localhost:8080/"
        },
        "id": "qxjfnDZkWgLW",
        "outputId": "6b5b0420-ec06-4830-fe8a-77ecfba453dc"
      },
      "execution_count": 42,
      "outputs": [
        {
          "output_type": "execute_result",
          "data": {
            "text/plain": [
              "('joe', 32, 'M')"
            ]
          },
          "metadata": {},
          "execution_count": 42
        }
      ]
    },
    {
      "cell_type": "code",
      "source": [
        "##access by field\\column\n",
        "data[\"name\"]"
      ],
      "metadata": {
        "colab": {
          "base_uri": "https://localhost:8080/"
        },
        "id": "i5id1nGwXpdb",
        "outputId": "a75763d3-d358-4aea-99a7-017d9e822636"
      },
      "execution_count": 43,
      "outputs": [
        {
          "output_type": "execute_result",
          "data": {
            "text/plain": [
              "array(['joe', 'mary', 'philip'], dtype='<U10')"
            ]
          },
          "metadata": {},
          "execution_count": 43
        }
      ]
    },
    {
      "cell_type": "code",
      "source": [
        "## access by filtering\n",
        "data[data[\"gender\"] == \"F\"][\"name\"]\n",
        "\n",
        "##acts as a SQL query \n",
        "#  SELECT name FROM data\n",
        "#  WHERE power > 9000;\n",
        "\n"
      ],
      "metadata": {
        "colab": {
          "base_uri": "https://localhost:8080/"
        },
        "id": "6X2179LhXzHI",
        "outputId": "fe0d584c-9ac1-4253-ac68-b3670ff1ff50"
      },
      "execution_count": 45,
      "outputs": [
        {
          "output_type": "execute_result",
          "data": {
            "text/plain": [
              "array(['mary'], dtype='<U10')"
            ]
          },
          "metadata": {},
          "execution_count": 45
        }
      ]
    },
    {
      "cell_type": "code",
      "source": [
        "np.sort(data[data[\"gender\"] == \"M\" ],order=\"age\")[\"name\"]"
      ],
      "metadata": {
        "colab": {
          "base_uri": "https://localhost:8080/"
        },
        "id": "UCoiuHqJYP2j",
        "outputId": "e05bce13-d33d-4920-8707-365a3bd2e5fc"
      },
      "execution_count": 46,
      "outputs": [
        {
          "output_type": "execute_result",
          "data": {
            "text/plain": [
              "array(['joe', 'philip'], dtype='<U10')"
            ]
          },
          "metadata": {},
          "execution_count": 46
        }
      ]
    }
  ]
}